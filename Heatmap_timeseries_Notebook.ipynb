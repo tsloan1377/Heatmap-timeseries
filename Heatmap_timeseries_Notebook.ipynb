{
 "cells": [
  {
   "cell_type": "code",
   "execution_count": null,
   "metadata": {},
   "outputs": [],
   "source": [
    "# This code snippet relies on having already processed your geospatial data into \n",
    "# A 3d numpy array with shape [n_rows, 2, n_timepoints]\n",
    "# Where each row is a seperate data point/observation,\n",
    "# The second dimension is arranged Longtude/Latitude (X,Y)\n",
    "# and the the number of timepoints depends on the resolution of source data\n",
    "# Most commonly n_timepoints = 1440 for each minute of the day."
   ]
  },
  {
   "cell_type": "markdown",
   "metadata": {},
   "source": [
    "##### Imports"
   ]
  },
  {
   "cell_type": "code",
   "execution_count": 1,
   "metadata": {},
   "outputs": [],
   "source": [
    "import numpy as np\n",
    "import matplotlib\n",
    "import matplotlib.pyplot as plt\n",
    "import os\n",
    "import imageio\n",
    "\n",
    "%matplotlib inline "
   ]
  },
  {
   "cell_type": "code",
   "execution_count": 2,
   "metadata": {},
   "outputs": [],
   "source": [
    "# Simulate input data in time array\n",
    "\n",
    "n_timepoints = 60 # Most likely to be multiple of 60, depending on resolution\n",
    "n_samples = 1000\n",
    "time_array = np.empty([n_samples, 2, n_timepoints])\n",
    "\n",
    "r = 0.5\n",
    "for t in range(0, n_timepoints):\n",
    "    for i in range(0, n_samples):\n",
    "        time_array[i,0,t] = r *  np.cos(t / n_timepoints * 2 * np.pi) + np.random.randn() / 10\n",
    "        time_array[i,1,t] = r *  np.sin(t / n_timepoints * 2 * np.pi) + np.random.randn() / 10\n",
    "        "
   ]
  },
  {
   "cell_type": "markdown",
   "metadata": {},
   "source": [
    "##### Show simulated data with a scatterplot"
   ]
  },
  {
   "cell_type": "code",
   "execution_count": 3,
   "metadata": {},
   "outputs": [],
   "source": [
    "# Set plot limits\n",
    "xmin = -1\n",
    "xmax = 1\n",
    "ymin = -1\n",
    "ymax = 1"
   ]
  },
  {
   "cell_type": "code",
   "execution_count": 6,
   "metadata": {},
   "outputs": [
    {
     "name": "stderr",
     "output_type": "stream",
     "text": [
      "C:\\Users\\tyler\\Anaconda3\\lib\\site-packages\\ipykernel_launcher.py:26: DeprecationWarning: The binary mode of fromstring is deprecated, as it behaves surprisingly on unicode inputs. Use frombuffer instead\n"
     ]
    },
    {
     "data": {
      "image/png": "[encoded data removed]",
      "text/plain": [
       "<matplotlib.figure.Figure at 0x2b4a076e710>"
      ]
     },
     "metadata": {},
     "output_type": "display_data"
    }
   ],
   "source": [
    "frames = []\n",
    "fig = plt.figure(frameon=False)\n",
    "fig.set_size_inches(10,10)\n",
    "ax = plt.Axes(fig, [0., 0., 1., 1.])\n",
    "ax.set_axis_off()\n",
    "fig.add_axes(ax)\n",
    "\n",
    "export_path = 'export//scatter//'\n",
    "if not os.path.exists(export_path):\n",
    "    os.makedirs(export_path)\n",
    "    \n",
    "for t in range(0,n_timepoints):  \n",
    "    ax.clear()\n",
    "    ax.scatter(time_array[:,0,t],time_array[:,1,t],s=1,  alpha=1, c='black')#s=np.squeeze(time_array[:,2,t])*10, alpha=1, c='black')\n",
    "    ax.axis('equal')\n",
    "    plt.axis('off')\n",
    "    ax.axis([xmin, xmax, ymin, ymax]) # Setting the axes like this avoid the zero values in the preallocated empty array.\n",
    "\n",
    "    # Draw the figure\n",
    "    fig.canvas.draw()\n",
    "\n",
    "    # Convert to numpy array, and append to list\n",
    "    np_fig = np.fromstring(fig.canvas.tostring_rgb(), dtype=np.uint8, sep='')\n",
    "    np_fig = np_fig.reshape(fig.canvas.get_width_height()[::-1] + (3,))\n",
    "    frames.append(np_fig)\n",
    "    \n",
    "imageio.mimsave(export_path + '/scatter.gif', frames)"
   ]
  },
  {
   "cell_type": "markdown",
   "metadata": {},
   "source": [
    "##### Create the hexin heatmap timeseries"
   ]
  },
  {
   "cell_type": "code",
   "execution_count": null,
   "metadata": {},
   "outputs": [
    {
     "name": "stderr",
     "output_type": "stream",
     "text": [
      "C:\\Users\\tyler\\Anaconda3\\lib\\site-packages\\ipykernel_launcher.py:40: DeprecationWarning: The binary mode of fromstring is deprecated, as it behaves surprisingly on unicode inputs. Use frombuffer instead\n",
      "C:\\Users\\tyler\\Anaconda3\\lib\\site-packages\\matplotlib\\cbook\\deprecation.py:106: MatplotlibDeprecationWarning: Adding an axes using the same arguments as a previous axes currently reuses the earlier instance.  In a future version, a new instance will always be created and returned.  Meanwhile, this warning can be suppressed, and the future behavior ensured, by passing a unique label to each axes instance.\n",
      "  warnings.warn(message, mplDeprecation, stacklevel=1)\n"
     ]
    }
   ],
   "source": [
    "frames = []\n",
    "num_bins = 100\n",
    "fig = plt.figure(frameon=False) \n",
    "fig.set_size_inches(20,20)\n",
    "\n",
    "export_path = 'export//hexbin//'\n",
    "if not os.path.exists(export_path):\n",
    "    os.makedirs(export_path)\n",
    "\n",
    "# To make the content fill the whole figure\n",
    "ax = plt.Axes(fig, [0., 0., 1., 1.])\n",
    "ax.set_axis_off()\n",
    "\n",
    "\n",
    "for t in range(0,len(time_array[0,0,:])):  \n",
    "\t\n",
    "\t# Squeeze the current slice of the time array into vectors for x and y.\n",
    "    x=np.copy(np.squeeze(time_array[:,0,t]))\n",
    "    y=np.copy(np.squeeze(time_array[:,1,t]))\n",
    "\n",
    "\n",
    "   # Remove the nans from the array\n",
    "    x = x[~np.isnan(x)]\n",
    "    y = y[~np.isnan(y)]\n",
    "\n",
    "    # Log colormap\n",
    "    \n",
    "    hb = ax.hexbin(x, y, gridsize=num_bins, cmap='inferno', bins='log',\n",
    "                   extent=(xmin, xmax, ymin, ymax))\n",
    "    \n",
    "    fig.add_axes(ax)\n",
    "    ax.axis('equal')\n",
    "    plt.axis('off')\n",
    "    ax.axis([xmin, xmax, ymin, ymax]) \n",
    "    \n",
    "    # Draw the figure\n",
    "    fig.canvas.draw()\n",
    "\n",
    "    # Convert to numpy array, and append to list\n",
    "    np_fig = np.fromstring(fig.canvas.tostring_rgb(), dtype=np.uint8, sep='')\n",
    "    np_fig = np_fig.reshape(fig.canvas.get_width_height()[::-1] + (3,))\n",
    "    frames.append(np_fig)\n",
    "    \n",
    "imageio.mimsave(export_path + '/hexbin_' + str(num_bins) + '_bins.gif', frames)\n",
    "    "
   ]
  },
  {
   "cell_type": "code",
   "execution_count": null,
   "metadata": {},
   "outputs": [],
   "source": []
  }
 ],
 "metadata": {
  "kernelspec": {
   "display_name": "Python 3",
   "language": "python",
   "name": "python3"
  },
  "language_info": {
   "codemirror_mode": {
    "name": "ipython",
    "version": 3
   },
   "file_extension": ".py",
   "mimetype": "text/x-python",
   "name": "python",
   "nbconvert_exporter": "python",
   "pygments_lexer": "ipython3",
   "version": "3.6.3"
  },
  "varInspector": {
   "cols": {
    "lenName": 16,
    "lenType": 16,
    "lenVar": 40
   },
   "kernels_config": {
    "python": {
     "delete_cmd_postfix": "",
     "delete_cmd_prefix": "del ",
     "library": "var_list.py",
     "varRefreshCmd": "print(var_dic_list())"
    },
    "r": {
     "delete_cmd_postfix": ") ",
     "delete_cmd_prefix": "rm(",
     "library": "var_list.r",
     "varRefreshCmd": "cat(var_dic_list()) "
    }
   },
   "types_to_exclude": [
    "module",
    "function",
    "builtin_function_or_method",
    "instance",
    "_Feature"
   ],
   "window_display": false
  }
 },
 "nbformat": 4,
 "nbformat_minor": 2
}
